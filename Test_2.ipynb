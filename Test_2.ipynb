{
 "cells": [
  {
   "cell_type": "code",
   "execution_count": 1,
   "metadata": {},
   "outputs": [],
   "source": [
    "import pandas as pd\n",
    "import numpy as np\n",
    "import seaborn as sns\n",
    "import matplotlib.pyplot as plt\n",
    "from   scipy.stats import ttest_ind\n",
    "from   ydata_profiling import ProfileReport\n",
    "import tex\n",
    "import warnings\n",
    "import scipy.stats as stats\n",
    "from   scipy import stats\n"
   ]
  },
  {
   "cell_type": "code",
   "execution_count": 12,
   "metadata": {},
   "outputs": [],
   "source": [
    "warnings.filterwarnings('default')\n",
    "\n",
    "def mw_utest(group_control,group_test):\n",
    "    \n",
    "    statistic, p_value = stats.mannwhitneyu(group_control, group_test, alternative='two-sided')\n",
    "\n",
    "    print(f\"U Statistic: {statistic}\")\n",
    "    print(f\"P-value: {p_value}\")\n",
    "\n",
    "    alpha = 0.05 \n",
    "    if p_value < alpha:\n",
    "        print(\"The difference between the groups is statistically significant.\")\n",
    "    else:\n",
    "        print(\"There is no statistically significant difference between the groups.\")\n",
    "\n",
    "    print(f'test mean: {np.mean(group_test)}, control mean: {np.mean(group_control)}')"
   ]
  },
  {
   "cell_type": "code",
   "execution_count": 10,
   "metadata": {},
   "outputs": [],
   "source": [
    "group_control = [44.71, 32.90, 24.89, 20.11, 16.41, 14.59, 12.76, 11.32, 10.02, 8.86, 8.08, 6.92, 4.85, 2.95, 1.23, 0.25, 0.00, 0.00]\n",
    "group_test = [42.71, 29.71, 24.05, 19.47, 15.87, 13.14, 11.95, 10.28, 9.19, 8.11, 7.65, 6.57, 4.30, 2.69, 1.47, 0.45, 0.00, 0.00]"
   ]
  },
  {
   "cell_type": "code",
   "execution_count": 17,
   "metadata": {},
   "outputs": [
    {
     "name": "stdout",
     "output_type": "stream",
     "text": [
      "U Statistic: 283.0\n",
      "P-value: 0.00013623424777444305\n",
      "The difference between the groups is statistically significant.\n",
      "test mean: 11.533888888888889, control mean: 330.0\n"
     ]
    }
   ],
   "source": [
    "mw_utest(group_control,group_test)"
   ]
  },
  {
   "cell_type": "code",
   "execution_count": 16,
   "metadata": {},
   "outputs": [],
   "source": [
    "group_control = [1272, 936, 708, 572, 467, 415, 363, 322, 285, 252, 230, 197, 138, 84, 35, 7, 0, 0]\n",
    "group_control = [1222, 850, 688, 557, 454, 376, 342, 294, 263, 232, 219, 188, 123, 77, 42, 13, 0, 0]"
   ]
  }
 ],
 "metadata": {
  "interpreter": {
   "hash": "29e4d3c77063d5cf32b0c94afbea98cec5aa52501ec17380cb18709ab4425f12"
  },
  "kernelspec": {
   "display_name": "Python 3.10.4 ('new_env')",
   "language": "python",
   "name": "python3"
  },
  "language_info": {
   "codemirror_mode": {
    "name": "ipython",
    "version": 3
   },
   "file_extension": ".py",
   "mimetype": "text/x-python",
   "name": "python",
   "nbconvert_exporter": "python",
   "pygments_lexer": "ipython3",
   "version": "3.10.4"
  },
  "orig_nbformat": 4
 },
 "nbformat": 4,
 "nbformat_minor": 2
}
